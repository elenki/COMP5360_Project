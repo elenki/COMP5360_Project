{
 "cells": [
  {
   "cell_type": "code",
   "execution_count": 2,
   "id": "2454cd97",
   "metadata": {},
   "outputs": [
    {
     "name": "stderr",
     "output_type": "stream",
     "text": [
      "C:\\Users\\Student\\AppData\\Local\\Temp\\ipykernel_12388\\1775996341.py:3: DtypeWarning: Columns (10) have mixed types. Specify dtype option on import or set low_memory=False.\n",
      "  df_CD = pd.read_csv('Chronic_Disease.csv')\n"
     ]
    }
   ],
   "source": [
    "import pandas as pd\n",
    "\n",
    "df_CD = pd.read_csv('Chronic_Disease.csv')\n"
   ]
  },
  {
   "cell_type": "code",
   "execution_count": 19,
   "id": "71f3578c",
   "metadata": {},
   "outputs": [
    {
     "data": {
      "text/html": [
       "<div>\n",
       "<style scoped>\n",
       "    .dataframe tbody tr th:only-of-type {\n",
       "        vertical-align: middle;\n",
       "    }\n",
       "\n",
       "    .dataframe tbody tr th {\n",
       "        vertical-align: top;\n",
       "    }\n",
       "\n",
       "    .dataframe thead th {\n",
       "        text-align: right;\n",
       "    }\n",
       "</style>\n",
       "<table border=\"1\" class=\"dataframe\">\n",
       "  <thead>\n",
       "    <tr style=\"text-align: right;\">\n",
       "      <th></th>\n",
       "      <th>YearStart</th>\n",
       "      <th>YearEnd</th>\n",
       "      <th>LocationAbbr</th>\n",
       "      <th>LocationDesc</th>\n",
       "      <th>DataSource</th>\n",
       "      <th>Topic</th>\n",
       "      <th>Question</th>\n",
       "      <th>Response</th>\n",
       "      <th>DataValueUnit</th>\n",
       "      <th>DataValueType</th>\n",
       "      <th>...</th>\n",
       "      <th>LocationID</th>\n",
       "      <th>TopicID</th>\n",
       "      <th>QuestionID</th>\n",
       "      <th>DataValueTypeID</th>\n",
       "      <th>StratificationCategoryID1</th>\n",
       "      <th>StratificationID1</th>\n",
       "      <th>StratificationCategoryID2</th>\n",
       "      <th>StratificationID2</th>\n",
       "      <th>StratificationCategoryID3</th>\n",
       "      <th>StratificationID3</th>\n",
       "    </tr>\n",
       "  </thead>\n",
       "  <tbody>\n",
       "    <tr>\n",
       "      <th>0</th>\n",
       "      <td>2014</td>\n",
       "      <td>2014</td>\n",
       "      <td>AR</td>\n",
       "      <td>Arkansas</td>\n",
       "      <td>SEDD; SID</td>\n",
       "      <td>Asthma</td>\n",
       "      <td>Hospitalizations for asthma</td>\n",
       "      <td>NaN</td>\n",
       "      <td>NaN</td>\n",
       "      <td>Number</td>\n",
       "      <td>...</td>\n",
       "      <td>5</td>\n",
       "      <td>AST</td>\n",
       "      <td>AST3_1</td>\n",
       "      <td>NMBR</td>\n",
       "      <td>GENDER</td>\n",
       "      <td>GENM</td>\n",
       "      <td>NaN</td>\n",
       "      <td>NaN</td>\n",
       "      <td>NaN</td>\n",
       "      <td>NaN</td>\n",
       "    </tr>\n",
       "    <tr>\n",
       "      <th>1</th>\n",
       "      <td>2018</td>\n",
       "      <td>2018</td>\n",
       "      <td>CO</td>\n",
       "      <td>Colorado</td>\n",
       "      <td>SEDD; SID</td>\n",
       "      <td>Asthma</td>\n",
       "      <td>Hospitalizations for asthma</td>\n",
       "      <td>NaN</td>\n",
       "      <td>NaN</td>\n",
       "      <td>Number</td>\n",
       "      <td>...</td>\n",
       "      <td>8</td>\n",
       "      <td>AST</td>\n",
       "      <td>AST3_1</td>\n",
       "      <td>NMBR</td>\n",
       "      <td>OVERALL</td>\n",
       "      <td>OVR</td>\n",
       "      <td>NaN</td>\n",
       "      <td>NaN</td>\n",
       "      <td>NaN</td>\n",
       "      <td>NaN</td>\n",
       "    </tr>\n",
       "    <tr>\n",
       "      <th>2</th>\n",
       "      <td>2018</td>\n",
       "      <td>2018</td>\n",
       "      <td>DC</td>\n",
       "      <td>District of Columbia</td>\n",
       "      <td>SEDD; SID</td>\n",
       "      <td>Asthma</td>\n",
       "      <td>Hospitalizations for asthma</td>\n",
       "      <td>NaN</td>\n",
       "      <td>NaN</td>\n",
       "      <td>Number</td>\n",
       "      <td>...</td>\n",
       "      <td>11</td>\n",
       "      <td>AST</td>\n",
       "      <td>AST3_1</td>\n",
       "      <td>NMBR</td>\n",
       "      <td>OVERALL</td>\n",
       "      <td>OVR</td>\n",
       "      <td>NaN</td>\n",
       "      <td>NaN</td>\n",
       "      <td>NaN</td>\n",
       "      <td>NaN</td>\n",
       "    </tr>\n",
       "    <tr>\n",
       "      <th>3</th>\n",
       "      <td>2017</td>\n",
       "      <td>2017</td>\n",
       "      <td>GA</td>\n",
       "      <td>Georgia</td>\n",
       "      <td>SEDD; SID</td>\n",
       "      <td>Asthma</td>\n",
       "      <td>Hospitalizations for asthma</td>\n",
       "      <td>NaN</td>\n",
       "      <td>NaN</td>\n",
       "      <td>Number</td>\n",
       "      <td>...</td>\n",
       "      <td>13</td>\n",
       "      <td>AST</td>\n",
       "      <td>AST3_1</td>\n",
       "      <td>NMBR</td>\n",
       "      <td>GENDER</td>\n",
       "      <td>GENF</td>\n",
       "      <td>NaN</td>\n",
       "      <td>NaN</td>\n",
       "      <td>NaN</td>\n",
       "      <td>NaN</td>\n",
       "    </tr>\n",
       "    <tr>\n",
       "      <th>4</th>\n",
       "      <td>2010</td>\n",
       "      <td>2010</td>\n",
       "      <td>MI</td>\n",
       "      <td>Michigan</td>\n",
       "      <td>SEDD; SID</td>\n",
       "      <td>Asthma</td>\n",
       "      <td>Hospitalizations for asthma</td>\n",
       "      <td>NaN</td>\n",
       "      <td>NaN</td>\n",
       "      <td>Number</td>\n",
       "      <td>...</td>\n",
       "      <td>26</td>\n",
       "      <td>AST</td>\n",
       "      <td>AST3_1</td>\n",
       "      <td>NMBR</td>\n",
       "      <td>RACE</td>\n",
       "      <td>HIS</td>\n",
       "      <td>NaN</td>\n",
       "      <td>NaN</td>\n",
       "      <td>NaN</td>\n",
       "      <td>NaN</td>\n",
       "    </tr>\n",
       "  </tbody>\n",
       "</table>\n",
       "<p>5 rows × 34 columns</p>\n",
       "</div>"
      ],
      "text/plain": [
       "   YearStart  YearEnd LocationAbbr          LocationDesc DataSource   Topic  \\\n",
       "0       2014     2014           AR              Arkansas  SEDD; SID  Asthma   \n",
       "1       2018     2018           CO              Colorado  SEDD; SID  Asthma   \n",
       "2       2018     2018           DC  District of Columbia  SEDD; SID  Asthma   \n",
       "3       2017     2017           GA               Georgia  SEDD; SID  Asthma   \n",
       "4       2010     2010           MI              Michigan  SEDD; SID  Asthma   \n",
       "\n",
       "                      Question  Response DataValueUnit DataValueType  ...  \\\n",
       "0  Hospitalizations for asthma       NaN           NaN        Number  ...   \n",
       "1  Hospitalizations for asthma       NaN           NaN        Number  ...   \n",
       "2  Hospitalizations for asthma       NaN           NaN        Number  ...   \n",
       "3  Hospitalizations for asthma       NaN           NaN        Number  ...   \n",
       "4  Hospitalizations for asthma       NaN           NaN        Number  ...   \n",
       "\n",
       "  LocationID  TopicID QuestionID DataValueTypeID  StratificationCategoryID1  \\\n",
       "0          5      AST     AST3_1            NMBR                     GENDER   \n",
       "1          8      AST     AST3_1            NMBR                    OVERALL   \n",
       "2         11      AST     AST3_1            NMBR                    OVERALL   \n",
       "3         13      AST     AST3_1            NMBR                     GENDER   \n",
       "4         26      AST     AST3_1            NMBR                       RACE   \n",
       "\n",
       "   StratificationID1 StratificationCategoryID2 StratificationID2  \\\n",
       "0               GENM                       NaN               NaN   \n",
       "1                OVR                       NaN               NaN   \n",
       "2                OVR                       NaN               NaN   \n",
       "3               GENF                       NaN               NaN   \n",
       "4                HIS                       NaN               NaN   \n",
       "\n",
       "   StratificationCategoryID3  StratificationID3  \n",
       "0                        NaN                NaN  \n",
       "1                        NaN                NaN  \n",
       "2                        NaN                NaN  \n",
       "3                        NaN                NaN  \n",
       "4                        NaN                NaN  \n",
       "\n",
       "[5 rows x 34 columns]"
      ]
     },
     "execution_count": 19,
     "metadata": {},
     "output_type": "execute_result"
    }
   ],
   "source": [
    "# Load the first 10 rows to check data types\n",
    "df_CD.head(5)"
   ]
  },
  {
   "cell_type": "code",
   "execution_count": 12,
   "id": "996d35d7",
   "metadata": {},
   "outputs": [
    {
     "data": {
      "text/plain": [
       "YearStart                      int64\n",
       "YearEnd                        int64\n",
       "LocationAbbr                  object\n",
       "LocationDesc                  object\n",
       "DataSource                    object\n",
       "Topic                         object\n",
       "Question                      object\n",
       "Response                     float64\n",
       "DataValueUnit                 object\n",
       "DataValueType                 object\n",
       "DataValue                     object\n",
       "DataValueAlt                 float64\n",
       "DataValueFootnoteSymbol       object\n",
       "DatavalueFootnote             object\n",
       "LowConfidenceLimit           float64\n",
       "HighConfidenceLimit          float64\n",
       "StratificationCategory1       object\n",
       "Stratification1               object\n",
       "StratificationCategory2      float64\n",
       "Stratification2              float64\n",
       "StratificationCategory3      float64\n",
       "Stratification3              float64\n",
       "GeoLocation                   object\n",
       "ResponseID                   float64\n",
       "LocationID                     int64\n",
       "TopicID                       object\n",
       "QuestionID                    object\n",
       "DataValueTypeID               object\n",
       "StratificationCategoryID1     object\n",
       "StratificationID1             object\n",
       "StratificationCategoryID2    float64\n",
       "StratificationID2            float64\n",
       "StratificationCategoryID3    float64\n",
       "StratificationID3            float64\n",
       "dtype: object"
      ]
     },
     "execution_count": 12,
     "metadata": {},
     "output_type": "execute_result"
    }
   ],
   "source": [
    "df_CD.dtypes\n"
   ]
  },
  {
   "cell_type": "code",
   "execution_count": 18,
   "id": "56b367a4",
   "metadata": {},
   "outputs": [
    {
     "data": {
      "text/html": [
       "<div>\n",
       "<style scoped>\n",
       "    .dataframe tbody tr th:only-of-type {\n",
       "        vertical-align: middle;\n",
       "    }\n",
       "\n",
       "    .dataframe tbody tr th {\n",
       "        vertical-align: top;\n",
       "    }\n",
       "\n",
       "    .dataframe thead th {\n",
       "        text-align: right;\n",
       "    }\n",
       "</style>\n",
       "<table border=\"1\" class=\"dataframe\">\n",
       "  <thead>\n",
       "    <tr style=\"text-align: right;\">\n",
       "      <th></th>\n",
       "      <th>YearStart</th>\n",
       "      <th>YearEnd</th>\n",
       "      <th>LocationAbbr</th>\n",
       "      <th>LocationDesc</th>\n",
       "      <th>DataSource</th>\n",
       "      <th>Topic</th>\n",
       "      <th>Question</th>\n",
       "      <th>Response</th>\n",
       "      <th>DataValueUnit</th>\n",
       "      <th>DataValueType</th>\n",
       "      <th>...</th>\n",
       "      <th>LocationID</th>\n",
       "      <th>TopicID</th>\n",
       "      <th>QuestionID</th>\n",
       "      <th>DataValueTypeID</th>\n",
       "      <th>StratificationCategoryID1</th>\n",
       "      <th>StratificationID1</th>\n",
       "      <th>StratificationCategoryID2</th>\n",
       "      <th>StratificationID2</th>\n",
       "      <th>StratificationCategoryID3</th>\n",
       "      <th>StratificationID3</th>\n",
       "    </tr>\n",
       "  </thead>\n",
       "  <tbody>\n",
       "    <tr>\n",
       "      <th>0</th>\n",
       "      <td>2014</td>\n",
       "      <td>2014</td>\n",
       "      <td>AR</td>\n",
       "      <td>Arkansas</td>\n",
       "      <td>SEDD; SID</td>\n",
       "      <td>Asthma</td>\n",
       "      <td>Hospitalizations for asthma</td>\n",
       "      <td>NaN</td>\n",
       "      <td>NaN</td>\n",
       "      <td>Number</td>\n",
       "      <td>...</td>\n",
       "      <td>5</td>\n",
       "      <td>AST</td>\n",
       "      <td>AST3_1</td>\n",
       "      <td>NMBR</td>\n",
       "      <td>GENDER</td>\n",
       "      <td>GENM</td>\n",
       "      <td>NaN</td>\n",
       "      <td>NaN</td>\n",
       "      <td>NaN</td>\n",
       "      <td>NaN</td>\n",
       "    </tr>\n",
       "    <tr>\n",
       "      <th>1</th>\n",
       "      <td>2018</td>\n",
       "      <td>2018</td>\n",
       "      <td>CO</td>\n",
       "      <td>Colorado</td>\n",
       "      <td>SEDD; SID</td>\n",
       "      <td>Asthma</td>\n",
       "      <td>Hospitalizations for asthma</td>\n",
       "      <td>NaN</td>\n",
       "      <td>NaN</td>\n",
       "      <td>Number</td>\n",
       "      <td>...</td>\n",
       "      <td>8</td>\n",
       "      <td>AST</td>\n",
       "      <td>AST3_1</td>\n",
       "      <td>NMBR</td>\n",
       "      <td>OVERALL</td>\n",
       "      <td>OVR</td>\n",
       "      <td>NaN</td>\n",
       "      <td>NaN</td>\n",
       "      <td>NaN</td>\n",
       "      <td>NaN</td>\n",
       "    </tr>\n",
       "    <tr>\n",
       "      <th>2</th>\n",
       "      <td>2018</td>\n",
       "      <td>2018</td>\n",
       "      <td>DC</td>\n",
       "      <td>District of Columbia</td>\n",
       "      <td>SEDD; SID</td>\n",
       "      <td>Asthma</td>\n",
       "      <td>Hospitalizations for asthma</td>\n",
       "      <td>NaN</td>\n",
       "      <td>NaN</td>\n",
       "      <td>Number</td>\n",
       "      <td>...</td>\n",
       "      <td>11</td>\n",
       "      <td>AST</td>\n",
       "      <td>AST3_1</td>\n",
       "      <td>NMBR</td>\n",
       "      <td>OVERALL</td>\n",
       "      <td>OVR</td>\n",
       "      <td>NaN</td>\n",
       "      <td>NaN</td>\n",
       "      <td>NaN</td>\n",
       "      <td>NaN</td>\n",
       "    </tr>\n",
       "  </tbody>\n",
       "</table>\n",
       "<p>3 rows × 34 columns</p>\n",
       "</div>"
      ],
      "text/plain": [
       "   YearStart  YearEnd LocationAbbr          LocationDesc DataSource   Topic  \\\n",
       "0       2014     2014           AR              Arkansas  SEDD; SID  Asthma   \n",
       "1       2018     2018           CO              Colorado  SEDD; SID  Asthma   \n",
       "2       2018     2018           DC  District of Columbia  SEDD; SID  Asthma   \n",
       "\n",
       "                      Question  Response DataValueUnit DataValueType  ...  \\\n",
       "0  Hospitalizations for asthma       NaN           NaN        Number  ...   \n",
       "1  Hospitalizations for asthma       NaN           NaN        Number  ...   \n",
       "2  Hospitalizations for asthma       NaN           NaN        Number  ...   \n",
       "\n",
       "  LocationID  TopicID QuestionID DataValueTypeID  StratificationCategoryID1  \\\n",
       "0          5      AST     AST3_1            NMBR                     GENDER   \n",
       "1          8      AST     AST3_1            NMBR                    OVERALL   \n",
       "2         11      AST     AST3_1            NMBR                    OVERALL   \n",
       "\n",
       "   StratificationID1 StratificationCategoryID2 StratificationID2  \\\n",
       "0               GENM                       NaN               NaN   \n",
       "1                OVR                       NaN               NaN   \n",
       "2                OVR                       NaN               NaN   \n",
       "\n",
       "   StratificationCategoryID3  StratificationID3  \n",
       "0                        NaN                NaN  \n",
       "1                        NaN                NaN  \n",
       "2                        NaN                NaN  \n",
       "\n",
       "[3 rows x 34 columns]"
      ]
     },
     "execution_count": 18,
     "metadata": {},
     "output_type": "execute_result"
    }
   ],
   "source": [
    "asthma_df = df_CD[df_CD['Topic'] == 'Asthma']\n",
    "asthma_df.head(3)"
   ]
  },
  {
   "cell_type": "code",
   "execution_count": 20,
   "id": "db36fc0d",
   "metadata": {},
   "outputs": [
    {
     "name": "stdout",
     "output_type": "stream",
     "text": [
      "['Asthma' 'Cancer' 'Chronic Kidney Disease'\n",
      " 'Chronic Obstructive Pulmonary Disease' 'Cardiovascular Disease'\n",
      " 'Diabetes' 'Disability' 'Reproductive Health' 'Tobacco' 'Alcohol'\n",
      " 'Arthritis' 'Nutrition, Physical Activity, and Weight Status'\n",
      " 'Mental Health' 'Older Adults' 'Oral Health' 'Overarching Conditions'\n",
      " 'Immunization']\n"
     ]
    }
   ],
   "source": [
    "# These are the topics (dseases/conditions) listed in the dataset\n",
    "\n",
    "whole_dataset_unique_diseases = df_CD['Topic'].unique()\n",
    "print(whole_dataset_unique_diseases) "
   ]
  },
  {
   "cell_type": "code",
   "execution_count": 52,
   "id": "0e2def64",
   "metadata": {},
   "outputs": [
    {
     "name": "stdout",
     "output_type": "stream",
     "text": [
      "['Hospitalizations for asthma' 'Asthma mortality rate'\n",
      " 'Emergency department visit rate for asthma'\n",
      " 'Asthma prevalence among women aged 18-44 years'\n",
      " 'Current asthma prevalence among adults aged >= 18 years'\n",
      " 'Influenza vaccination among noninstitutionalized adults aged >= 65 years with asthma'\n",
      " 'Influenza vaccination among noninstitutionalized adults aged 18-64 years with asthma'\n",
      " 'Pneumococcal vaccination among noninstitutionalized adults aged 18-64 years with asthma'\n",
      " 'Pneumococcal vaccination among noninstitutionalized adults aged >= 65 years with asthma']\n"
     ]
    }
   ],
   "source": [
    "# Questions present in the dataset, related to each topic/disease (asthma)  \n",
    "unique_questions = asthma_df['Question'].unique()\n",
    "print(unique_questions)"
   ]
  },
  {
   "cell_type": "code",
   "execution_count": 24,
   "id": "c610ba10",
   "metadata": {},
   "outputs": [
    {
     "name": "stdout",
     "output_type": "stream",
     "text": [
      "Unique questions for 'Cancer':\n",
      "Cancer of the oral cavity and pharynx, mortality\n",
      "Cancer of the prostate, mortality\n",
      "Invasive cancer (all sites combined), mortality\n",
      "Cancer of the female breast, mortality\n",
      "Cancer of the female cervix, mortality\n",
      "Cancer of the colon and rectum (colorectal), mortality\n",
      "Cancer of the lung and bronchus, mortality\n",
      "Invasive melanoma, incidence\n",
      "Melanoma, mortality\n",
      "Invasive cancer of the oral cavity or pharynx, incidence\n",
      "Invasive cancer of the prostate, incidence\n",
      "Invasive cancer (all sites combined), incidence\n",
      "Invasive cancer of the female breast, incidence\n",
      "Invasive cancer of the cervix, incidence\n",
      "Cancer of the colon and rectum (colorectal), incidence\n",
      "Cancer of the lung and bronchus, incidence\n",
      "Mammography use among women aged 50-74 years\n",
      "Fecal occult blood test, sigmoidoscopy, or colonoscopy among adults aged 50-75 years\n",
      "Recent Papanicolaou smear use among women aged 21-44 years\n",
      "Papanicolaou smear use among adult women aged 21-65 years\n"
     ]
    }
   ],
   "source": [
    "# questions related to Cancer disease \n",
    "\n",
    "cancer_df = df_CD[df_CD['Topic'] == 'Cancer']\n",
    "\n",
    "# Find the unique questions for the 'Cancer' topic\n",
    "unique_cancer_questions = cancer_df['Question'].unique()\n",
    "\n",
    "# Print the unique questions\n",
    "print(\"Unique questions for 'Cancer':\")\n",
    "for question in unique_cancer_questions:\n",
    "    print(question)\n"
   ]
  },
  {
   "cell_type": "code",
   "execution_count": 27,
   "id": "e3faf60c",
   "metadata": {},
   "outputs": [
    {
     "name": "stdout",
     "output_type": "stream",
     "text": [
      "Unique questions for 'CKD':\n",
      "Mortality with end-stage renal disease\n",
      "Incidence of treated end-stage renal disease\n",
      "Incidence of treated end-stage renal disease attributed to diabetes\n",
      "Prevalence of chronic kidney disease among adults aged >= 18 years\n"
     ]
    }
   ],
   "source": [
    "# Questions related to CKD disease \n",
    "\n",
    "ckd_df = df_CD[df_CD['Topic'] == 'Chronic Kidney Disease']\n",
    "\n",
    "# Find the unique questions for the 'Cancer' topic\n",
    "unique_ckd_questions = ckd_df['Question'].unique()\n",
    "\n",
    "# Print the unique questions\n",
    "print(\"Unique questions for 'CKD':\")\n",
    "for question in unique_ckd_questions:\n",
    "    print(question)"
   ]
  },
  {
   "cell_type": "code",
   "execution_count": 28,
   "id": "e3b41982",
   "metadata": {},
   "outputs": [
    {
     "name": "stdout",
     "output_type": "stream",
     "text": [
      "Unique questions for 'COPD':\n",
      "Hospitalization for chronic obstructive pulmonary disease as first-listed diagnosis\n",
      "Hospitalization for chronic obstructive pulmonary disease as any diagnosis\n",
      "Hospitalization for chronic obstructive pulmonary disease as first-listed diagnosis among Medicare-eligible persons aged >= 65 years\n",
      "Hospitalization for chronic obstructive pulmonary disease as any diagnosis among Medicare-eligible persons aged >= 65 years\n",
      "Mortality with chronic obstructive pulmonary disease as underlying cause among adults aged >= 45 years\n",
      "Mortality with chronic obstructive pulmonary disease as underlying or contributing cause among adults aged >= 45 years\n",
      "Emergency department visit rate for chronic obstructive pulmonary disease as first-listed diagnosis\n",
      "Emergency department visit rate for chronic obstructive pulmonary disease as any diagnosis\n",
      "Prevalence of chronic obstructive pulmonary disease among adults >= 18\n",
      "Prevalence of chronic obstructive pulmonary disease among adults >= 45 years\n",
      "Prevalence of current smoking among adults >= 45 years with diagnosed chronic obstructive pulmonary disease\n",
      "Prevalence of current smoking among adults >= 18 with diagnosed chronic obstructive pulmonary disease\n",
      "Pneumococcal vaccination among noninstitutionalized adults aged >= 45 years with chronic obstructive pulmonary disease\n",
      "Influenza vaccination among noninstitutionalized adults aged >= 45 years with chronic obstructive pulmonary disease\n",
      "Prevalence of activity limitation among adults >= 45 years with diagnosed chronic obstructive pulmonary disease\n",
      "Prevalence of activity limitation among adults >= 18 with diagnosed chronic obstructive pulmonary disease\n"
     ]
    }
   ],
   "source": [
    "# COPD questions \n",
    "\n",
    "copd_df = df_CD[df_CD['Topic'] == 'Chronic Obstructive Pulmonary Disease']\n",
    "\n",
    "# Find the unique questions for the topic\n",
    "unique_copd_questions = copd_df['Question'].unique()\n",
    "\n",
    "# Print the unique questions\n",
    "print(\"Unique questions for 'COPD':\")\n",
    "for question in unique_copd_questions:\n",
    "    print(question)"
   ]
  },
  {
   "cell_type": "code",
   "execution_count": 29,
   "id": "f940db2f",
   "metadata": {},
   "outputs": [
    {
     "name": "stdout",
     "output_type": "stream",
     "text": [
      "Unique questions for 'CVD':\n",
      "Mortality from heart failure\n",
      "Hospitalization for heart failure among Medicare-eligible persons aged >= 65 years\n",
      "Hospitalization for stroke\n",
      "Pre-pregnancy hypertension\n",
      "Mortality from total cardiovascular diseases\n",
      "Mortality from diseases of the heart\n",
      "Mortality from coronary heart disease\n",
      "Mortality from cerebrovascular disease (stroke)\n",
      "Hospitalization for acute myocardial infarction\n",
      "Cholesterol screening among adults aged >= 18 years\n",
      "Pneumococcal vaccination among noninstitutionalized adults aged >= 65 years with a history of coronary heart disease\n",
      "Influenza vaccination among noninstitutionalized adults aged 18-64 years with a history of coronary heart disease or stroke\n",
      "Awareness of high blood pressure among women aged 18-44 years\n",
      "High cholesterol prevalence among adults aged >= 18 years\n",
      "Taking medicine for high blood pressure control among adults aged >= 18 years with high blood pressure\n",
      "Pneumococcal vaccination among noninstitutionalized adults aged 18-64 years with a history of coronary heart disease\n",
      "Awareness of high blood pressure among adults aged >= 18 years\n",
      "Influenza vaccination among noninstitutionalized adults aged >= 65 years with a history of coronary heart disease or stroke\n"
     ]
    }
   ],
   "source": [
    "# CVD questions avaiable in the dataset \n",
    "cvd_df = df_CD[df_CD['Topic'] == 'Cardiovascular Disease']\n",
    "\n",
    "# Find the unique questions for the topic\n",
    "unique_cvd_questions = cvd_df['Question'].unique()\n",
    "\n",
    "# Print the unique questions\n",
    "print(\"Unique questions for 'CVD':\")\n",
    "for question in unique_cvd_questions:\n",
    "    print(question)"
   ]
  },
  {
   "cell_type": "code",
   "execution_count": 30,
   "id": "073c46ec",
   "metadata": {},
   "outputs": [
    {
     "name": "stdout",
     "output_type": "stream",
     "text": [
      "Unique questions for 'Diabetes':\n",
      "Mortality due to diabetes reported as any listed cause of death\n",
      "Mortality with diabetic ketoacidosis reported as any listed cause of death\n",
      "Amputation of a lower extremity attributable to diabetes\n",
      "Hospitalization with diabetes as a listed diagnosis\n",
      "Prevalence of pre-pregnancy diabetes\n",
      "Prevalence of gestational diabetes\n",
      "Diabetes prevalence among women aged 18-44 years\n",
      "Foot examination among adults aged >= 18 years with diagnosed diabetes\n",
      "Dilated eye examination among adults aged >= 18 years with diagnosed diabetes\n",
      "Pneumococcal vaccination among noninstitutionalized adults aged 18-64 years with diagnosed diabetes\n",
      "Adults with diagnosed diabetes aged >= 18 years who have taken a diabetes self-management course\n",
      "Prevalence of depressive disorders among adults aged >= 18 years with diagnosed diabetes\n",
      "Glycosylated hemoglobin measurement among adults aged >= 18 years with diagnosed diabetes\n",
      "Influenza vaccination among noninstitutionalized adults aged >= 65 years with diagnosed diabetes\n",
      "Pneumococcal vaccination among noninstitutionalized adults aged >= 65 years with diagnosed diabetes\n",
      "Prevalence of high cholesterol among adults aged >= 18 years with diagnosed diabetes\n",
      "Prevalence of diagnosed diabetes among adults aged >= 18 years\n",
      "Influenza vaccination among noninstitutionalized adults aged 18-64 years with diagnosed diabetes\n",
      "Prevalence of high blood pressure among adults aged >= 18 years with diagnosed diabetes\n",
      "Visits to dentist or dental clinic among adults aged >= 18 years with diagnosed diabetes\n"
     ]
    }
   ],
   "source": [
    "# Diabetes related qustions \n",
    "\n",
    "diabetes_df = df_CD[df_CD['Topic'] == 'Diabetes']\n",
    "\n",
    "# Find the unique questions for the topic\n",
    "unique_diabetes_questions = diabetes_df['Question'].unique()\n",
    "\n",
    "# Print the unique questions\n",
    "print(\"Unique questions for 'Diabetes':\")\n",
    "for question in unique_diabetes_questions:\n",
    "    print(question)"
   ]
  },
  {
   "cell_type": "code",
   "execution_count": 31,
   "id": "4aca21ab",
   "metadata": {},
   "outputs": [
    {
     "name": "stdout",
     "output_type": "stream",
     "text": [
      "Unique questions for 'Disability':\n",
      "Disability among adults aged >= 65 years\n"
     ]
    }
   ],
   "source": [
    "disability_df = df_CD[df_CD['Topic'] == 'Disability']\n",
    "\n",
    "# Find the unique questions for the topic\n",
    "unique_disability_questions = disability_df['Question'].unique()\n",
    "\n",
    "# Print the unique questions\n",
    "print(\"Unique questions for 'Disability':\")\n",
    "for question in unique_disability_questions:\n",
    "    print(question)"
   ]
  },
  {
   "cell_type": "code",
   "execution_count": 35,
   "id": "863da21c",
   "metadata": {},
   "outputs": [
    {
     "name": "stdout",
     "output_type": "stream",
     "text": [
      "Unique questions for 'Reproductive Health':\n",
      "Folic acid supplementation\n",
      "Postpartum checkup\n",
      "Timeliness of routine health care checkup among women aged 18-44 years\n"
     ]
    }
   ],
   "source": [
    "reproductive_health_df = df_CD[df_CD['Topic'] == 'Reproductive Health']\n",
    "\n",
    "unique_reproductive_health_questions = reproductive_health_df['Question'].unique()\n",
    "\n",
    "# Print the unique questions\n",
    "print(\"Unique questions for 'Reproductive Health':\")\n",
    "for question in unique_reproductive_health_questions:\n",
    "    print(question)"
   ]
  },
  {
   "cell_type": "code",
   "execution_count": 36,
   "id": "a6bfb7db",
   "metadata": {},
   "outputs": [
    {
     "name": "stdout",
     "output_type": "stream",
     "text": [
      "Unique questions for 'Tobacco':\n",
      "Sale of cigarette packs\n",
      "Amount of tobacco product excise tax\n",
      "Cigarette smoking before pregnancy\n",
      "Current cigarette smoking among youth\n",
      "States that allow stronger local tobacco control and prevention laws\n",
      "Current smokeless tobacco use among youth\n",
      "States with strong polices that require retail licenses to sell tobacco products\n",
      "Proportion of the population protected by a comprehensive smoke-free policy prohibiting smoking in all indoor areas of workplaces and public places, including restaurants and bars\n",
      "Secondary schools that have a comprehensive tobacco-free school policy in place\n",
      "Percent tobacco revenue to fund at CDC recommended level\n",
      "Current smoking among adults aged >= 18 years\n",
      "Quit attempts in the past year among current smokers\n",
      "Current smokeless tobacco use among adults aged >= 18 years\n",
      "Pneumococcal vaccination among noninstitutionalized adults aged >= 65 years who smoke\n",
      "Pneumococcal vaccination among noninstitutionalized adults aged 18-64 years who smoke\n",
      "Current cigarette smoking among women aged 18-44 years\n"
     ]
    }
   ],
   "source": [
    "tobacco_df = df_CD[df_CD['Topic'] == 'Tobacco']\n",
    "\n",
    "unique_tobacco_questions = tobacco_df['Question'].unique()\n",
    "\n",
    "# Print the unique questions\n",
    "print(\"Unique questions for 'Tobacco':\")\n",
    "for question in unique_tobacco_questions:\n",
    "    print(question)"
   ]
  },
  {
   "cell_type": "code",
   "execution_count": 37,
   "id": "347d5b7a",
   "metadata": {},
   "outputs": [
    {
     "name": "stdout",
     "output_type": "stream",
     "text": [
      "Unique questions for 'Alcohol':\n",
      "Chronic liver disease mortality\n",
      "Alcohol use before pregnancy\n",
      "Alcohol use among youth\n",
      "Local authority to regulate alcohol outlet density\n",
      "Binge drinking prevalence among youth\n",
      "Amount of alcohol excise tax by beverage type (beer)\n",
      "Amount of alcohol excise tax by beverage type (wine)\n",
      "Amount of alcohol excise tax by beverage type (distilled spirits)\n",
      "Commercial host (dram shop) liability laws\n",
      "Per capita alcohol consumption among persons aged >= 14 years\n",
      "Heavy drinking among adults aged >= 18 years\n",
      "Heavy drinking among women aged 18-44 years\n",
      "Binge drinking intensity among adults aged >= 18 years who binge drink\n",
      "Binge drinking frequency among adults aged >= 18 years who binge drink\n",
      "Binge drinking prevalence among adults aged >= 18 years\n",
      "Binge drinking prevalence among women aged 18-44 years\n"
     ]
    }
   ],
   "source": [
    "\n",
    "alcohol_df = df_CD[df_CD['Topic'] == 'Alcohol']\n",
    "\n",
    "unique_alcohol_questions = alcohol_df['Question'].unique()\n",
    "\n",
    "# Print the unique questions\n",
    "print(\"Unique questions for 'Alcohol':\")\n",
    "for question in unique_alcohol_questions:\n",
    "    print(question)"
   ]
  },
  {
   "cell_type": "code",
   "execution_count": 39,
   "id": "e5f6b706",
   "metadata": {},
   "outputs": [
    {
     "name": "stdout",
     "output_type": "stream",
     "text": [
      "Unique questions for 'Arthritis':\n",
      "Adults aged >= 18 years with arthritis who have taken a class to learn how to manage arthritis symptoms\n",
      "Arthritis among adults aged >= 18 years\n",
      "Arthritis among adults aged >= 18 years who have diabetes\n",
      "Arthritis among adults aged >= 18 years who are obese\n",
      "Arthritis among adults aged >= 18 years who have heart disease\n",
      "Physical inactivity among adults aged >= 18 years with arthritis\n",
      "Work limitation due to arthritis among adults aged 18-64 years who have doctor-diagnosed arthritis\n",
      "Fair or poor health among adults aged >= 18 years with arthritis\n",
      "Activity limitation due to arthritis among adults aged >= 18 years who have doctor-diagnosed arthritis\n",
      "Severe joint pain due to arthritis among adults aged >= 18 years who have doctor-diagnosed arthritis\n"
     ]
    }
   ],
   "source": [
    "# Questions available in the dataset related to arthritis \n",
    "\n",
    "arthritis_df = df_CD[df_CD['Topic'] == 'Arthritis']\n",
    "\n",
    "unique_arthritis_questions = arthritis_df['Question'].unique()\n",
    "\n",
    "# Print the unique questions\n",
    "print(\"Unique questions for 'Arthritis':\")\n",
    "for question in unique_arthritis_questions:\n",
    "    print(question)"
   ]
  },
  {
   "cell_type": "code",
   "execution_count": 43,
   "id": "c23208b4",
   "metadata": {},
   "outputs": [
    {
     "name": "stdout",
     "output_type": "stream",
     "text": [
      "Unique questions for 'Nutrition, Physical Activity, and Weight Status':\n",
      "Participation in daily school physical education classes among high school students\n",
      "Live births occurring at Baby Friendly Facilities\n",
      "Soda consumption among high school students\n",
      "Meeting aerobic physical activity guidelines among high school students\n",
      "Secondary schools that allow community-sponsored use of physical activity facilities by youth outside of normal school hours\n",
      "Infants breastfed at 6 months\n",
      "Receiving formula supplementation within the first 2 days of life among breastfed infants\n",
      "Mean maternity practices in infant nutrition care (mPINC) score\n",
      "Secondary schools that allow students to purchase soda or fruit drinks\n",
      "Secondary schools that offer less healthy foods as competitive foods\n",
      "Presence of regulations pertaining to screen time in early care and education settings\n",
      "Secondary schools that allow students to purchase sports drinks\n",
      "State child care regulation supports onsite breastfeeding\n",
      "Computer use among high school students\n",
      "Television viewing among high school students\n",
      "Median daily frequency of vegetable consumption among high school students\n",
      "Obesity among high school students\n",
      "Presence of regulations pertaining to avoiding sugar in early care and education settings\n",
      "Overweight or obesity among high school students\n",
      "Median daily frequency of fruit consumption among high school students\n",
      "Number of farmers markets per 100,000 residents\n",
      "Healthy weight among high school students\n",
      "Census tracts with healthier food retailers within � mile of boundary\n",
      "Farmers markets that accept Women and Infant Children (WIC) farmers market nutrition program coupons\n",
      "Presence of regulations pertaining to serving fruit in early care and education settings\n",
      "Presence of regulations pertaining to serving vegetables in early care and education settings\n",
      "Farmers markets that accept Supplemental Nutrition Assistance Program (SNAP) benefits\n",
      "Overweight or obesity among adults aged >= 18 years\n",
      "Obesity among adults aged >= 18 years\n",
      "Median daily frequency of vegetable consumption among adults aged >= 18 years\n",
      "Median daily frequency of fruit consumption among adults aged >= 18 years\n",
      "No leisure-time physical activity among adults aged >= 18 years\n",
      "Meeting aerobic physical activity guidelines for additional and more extensive health benefits among adults aged >= 18 years\n",
      "Meeting aerobic physical activity guidelines for substantial health benefits among adults aged >= 18 years\n",
      "Healthy weight among adults aged >= 18 years\n",
      "Meeting aerobic physical activity guidelines for substantial health benefits and for muscle-strengthening activity among adults aged >= 18 years\n",
      "Overweight or obesity among women aged 18-44 years\n"
     ]
    }
   ],
   "source": [
    "\n",
    "lifestyle_df = df_CD[df_CD['Topic'] == 'Nutrition, Physical Activity, and Weight Status']\n",
    "\n",
    "unique_lifestyle_questions = lifestyle_df['Question'].unique()\n",
    "\n",
    "# Print the unique questions\n",
    "print(\"Unique questions for 'Nutrition, Physical Activity, and Weight Status':\")\n",
    "for question in unique_lifestyle_questions:\n",
    "    print(question)"
   ]
  },
  {
   "cell_type": "code",
   "execution_count": 44,
   "id": "6a5f52d5",
   "metadata": {},
   "outputs": [
    {
     "name": "stdout",
     "output_type": "stream",
     "text": [
      "Unique questions for 'Overarching Conditions':\n",
      "Life expectancy at birth\n",
      "Premature mortality among adults aged 45-64 years\n",
      "Poverty\n",
      "Life expectancy at age 65 years\n",
      "High school completion among adults aged 18-24 years\n",
      "High school completion among women aged 18-44 years\n",
      "Health insurance coverage before pregnancy\n",
      "Poverty among women aged 18-44 years\n",
      "Gini Index of income inequality\n",
      "Current health care coverage among women aged 18-44 years\n",
      "Recent activity limitation among adults aged >= 18 years\n",
      "Self-rated health status among women aged 18-44 years\n",
      "Current lack of health insurance among adults aged 18-64 years\n",
      "Recent physically unhealthy days among adults aged >= 18 years\n",
      "Fair or poor self-rated health status among adults aged >= 18 years\n",
      "Prevalence of sufficient sleep among adults aged >= 18 years\n"
     ]
    }
   ],
   "source": [
    "# Questions related to over-arching conditions \n",
    "\n",
    "overarching_df = df_CD[df_CD['Topic'] == 'Overarching Conditions']\n",
    "\n",
    "unique_overarching_questions = overarching_df['Question'].unique()\n",
    "\n",
    "# Print the unique questions\n",
    "print(\"Unique questions for 'Overarching Conditions':\")\n",
    "for question in unique_overarching_questions:\n",
    "    print(question)"
   ]
  },
  {
   "cell_type": "code",
   "execution_count": 46,
   "id": "ff6f0503",
   "metadata": {},
   "outputs": [
    {
     "name": "stdout",
     "output_type": "stream",
     "text": [
      "Mental Health:\n",
      "Postpartum depressive symptoms\n",
      "Recent mentally unhealthy days among adults aged >= 18 years\n",
      "At least 14 recent mentally unhealthy days among women aged 18-44 years\n"
     ]
    }
   ],
   "source": [
    "mental_health_df = df_CD[df_CD['Topic'] == 'Mental Health']\n",
    "\n",
    "unique_mental_health_questions = mental_health_df['Question'].unique()\n",
    "\n",
    "# Print the unique questions\n",
    "print(\"Mental Health:\")\n",
    "for question in unique_mental_health_questions:\n",
    "    print(question)"
   ]
  },
  {
   "cell_type": "code",
   "execution_count": 48,
   "id": "ce63c963",
   "metadata": {},
   "outputs": [
    {
     "name": "stdout",
     "output_type": "stream",
     "text": [
      "Older Adults:\n",
      "Hospitalization for hip fracture among Medicare-eligible persons aged >= 65 years\n",
      "Prevalence of 2 or more chronic conditions among Medicare-enrolled persons aged >= 65 years\n",
      "Proportion of older adults aged 50-64 years who are up to date on a core set of clinical preventive services\n",
      "Proportion of older adults aged >= 65 years who are up to date on a core set of clinical preventive services\n"
     ]
    }
   ],
   "source": [
    "older_adults_df = df_CD[df_CD['Topic'] == 'Older Adults']\n",
    "\n",
    "unique_older_adults_questions = older_adults_df['Question'].unique()\n",
    "\n",
    "# Print the unique questions\n",
    "print(\"Older Adults:\")\n",
    "for question in unique_older_adults_questions:\n",
    "    print(question)"
   ]
  },
  {
   "cell_type": "code",
   "execution_count": 49,
   "id": "302a4c4a",
   "metadata": {},
   "outputs": [
    {
     "name": "stdout",
     "output_type": "stream",
     "text": [
      "Oral Health:\n",
      "Oral health services at Federally Qualified Health Centers\n",
      "Preventive dental care before pregnancy\n",
      "Dental visits among children and adolescents aged 1-17 years\n",
      "Preventive dental visits among children and adolescents aged 1-17 years\n",
      "Population served by community water systems that receive fluoridated drinking water\n",
      "All teeth lost among adults aged >= 65 years\n",
      "No tooth loss among adults aged 18-64 years\n",
      "Visits to dentist or dental clinic among adults aged >= 18 years\n",
      "Six or more teeth lost among adults aged >= 65 years\n"
     ]
    }
   ],
   "source": [
    "oral_health_df = df_CD[df_CD['Topic'] == 'Oral Health']\n",
    "\n",
    "unique_oral_health_questions = oral_health_df['Question'].unique()\n",
    "\n",
    "# Print the unique questions\n",
    "print(\"Oral Health:\")\n",
    "for question in unique_oral_health_questions:\n",
    "    print(question)"
   ]
  },
  {
   "cell_type": "code",
   "execution_count": 50,
   "id": "36389296",
   "metadata": {},
   "outputs": [
    {
     "name": "stdout",
     "output_type": "stream",
     "text": [
      "Immunization:\n",
      "Influenza vaccination among noninstitutionalized adults aged >= 18 years\n"
     ]
    }
   ],
   "source": [
    "immunization_df = df_CD[df_CD['Topic'] == 'Immunization']\n",
    "\n",
    "unique_immunization_questions = immunization_df['Question'].unique()\n",
    "\n",
    "# Print the unique questions\n",
    "print(\"Immunization:\")\n",
    "for question in unique_immunization_questions:\n",
    "    print(question)"
   ]
  },
  {
   "cell_type": "code",
   "execution_count": null,
   "id": "a616bcbc",
   "metadata": {},
   "outputs": [],
   "source": []
  }
 ],
 "metadata": {
  "kernelspec": {
   "display_name": "Python 3",
   "language": "python",
   "name": "python3"
  },
  "language_info": {
   "codemirror_mode": {
    "name": "ipython",
    "version": 3
   },
   "file_extension": ".py",
   "mimetype": "text/x-python",
   "name": "python",
   "nbconvert_exporter": "python",
   "pygments_lexer": "ipython3",
   "version": "3.9.6 (default, Nov 10 2023, 13:38:27) \n[Clang 15.0.0 (clang-1500.1.0.2.5)]"
  },
  "vscode": {
   "interpreter": {
    "hash": "31f2aee4e71d21fbe5cf8b01ff0e069b9275f58929596ceb00d14d90e3e16cd6"
   }
  }
 },
 "nbformat": 4,
 "nbformat_minor": 5
}
